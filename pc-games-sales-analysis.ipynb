{
 "cells": [
  {
   "cell_type": "code",
   "execution_count": 3,
   "id": "d55b9abd",
   "metadata": {
    "execution": {
     "iopub.execute_input": "2022-01-23T09:38:36.524259Z",
     "iopub.status.busy": "2022-01-23T09:38:36.523541Z",
     "iopub.status.idle": "2022-01-23T09:38:37.402115Z",
     "shell.execute_reply": "2022-01-23T09:38:37.401069Z",
     "shell.execute_reply.started": "2022-01-23T09:28:10.458138Z"
    },
    "papermill": {
     "duration": 0.903119,
     "end_time": "2022-01-23T09:38:37.402262",
     "exception": false,
     "start_time": "2022-01-23T09:38:36.499143",
     "status": "completed"
    },
    "tags": []
   },
   "outputs": [],
   "source": [
    "import numpy as np\n",
    "import pandas as pd\n",
    "import matplotlib.pyplot as plt\n",
    "import seaborn as sns\n",
    "\n",
    "sns.set(rc = {'figure.figsize':(12,8)})"
   ]
  },
  {
   "cell_type": "code",
   "execution_count": 4,
   "id": "57e2935a",
   "metadata": {
    "execution": {
     "iopub.execute_input": "2022-01-23T09:38:37.452467Z",
     "iopub.status.busy": "2022-01-23T09:38:37.451778Z",
     "iopub.status.idle": "2022-01-23T09:38:37.485914Z",
     "shell.execute_reply": "2022-01-23T09:38:37.486412Z",
     "shell.execute_reply.started": "2022-01-23T09:27:30.344630Z"
    },
    "papermill": {
     "duration": 0.061991,
     "end_time": "2022-01-23T09:38:37.486575",
     "exception": false,
     "start_time": "2022-01-23T09:38:37.424584",
     "status": "completed"
    },
    "tags": []
   },
   "outputs": [
    {
     "data": {
      "text/html": [
       "<div>\n",
       "<style scoped>\n",
       "    .dataframe tbody tr th:only-of-type {\n",
       "        vertical-align: middle;\n",
       "    }\n",
       "\n",
       "    .dataframe tbody tr th {\n",
       "        vertical-align: top;\n",
       "    }\n",
       "\n",
       "    .dataframe thead th {\n",
       "        text-align: right;\n",
       "    }\n",
       "</style>\n",
       "<table border=\"1\" class=\"dataframe\">\n",
       "  <thead>\n",
       "    <tr style=\"text-align: right;\">\n",
       "      <th></th>\n",
       "      <th>Name</th>\n",
       "      <th>Sales</th>\n",
       "      <th>Series</th>\n",
       "      <th>Release</th>\n",
       "      <th>Genre</th>\n",
       "      <th>Developer</th>\n",
       "      <th>Publisher</th>\n",
       "    </tr>\n",
       "  </thead>\n",
       "  <tbody>\n",
       "    <tr>\n",
       "      <th>0</th>\n",
       "      <td>PlayerUnknown's Battlegrounds</td>\n",
       "      <td>42.0</td>\n",
       "      <td>NaN</td>\n",
       "      <td>Dec-17</td>\n",
       "      <td>Battle royale</td>\n",
       "      <td>PUBG Studios</td>\n",
       "      <td>Krafton</td>\n",
       "    </tr>\n",
       "    <tr>\n",
       "      <th>1</th>\n",
       "      <td>Minecraft</td>\n",
       "      <td>33.0</td>\n",
       "      <td>Minecraft</td>\n",
       "      <td>Nov-11</td>\n",
       "      <td>Sandbox, survival</td>\n",
       "      <td>Mojang Studios</td>\n",
       "      <td>Mojang Studios</td>\n",
       "    </tr>\n",
       "    <tr>\n",
       "      <th>2</th>\n",
       "      <td>Diablo III</td>\n",
       "      <td>20.0</td>\n",
       "      <td>Diablo</td>\n",
       "      <td>May-12</td>\n",
       "      <td>Action role-playing</td>\n",
       "      <td>Blizzard Entertainment</td>\n",
       "      <td>Blizzard Entertainment</td>\n",
       "    </tr>\n",
       "    <tr>\n",
       "      <th>3</th>\n",
       "      <td>Garry's Mod</td>\n",
       "      <td>20.0</td>\n",
       "      <td>NaN</td>\n",
       "      <td>Nov-06</td>\n",
       "      <td>Sandbox</td>\n",
       "      <td>Facepunch Studios</td>\n",
       "      <td>Valve</td>\n",
       "    </tr>\n",
       "    <tr>\n",
       "      <th>4</th>\n",
       "      <td>Terraria</td>\n",
       "      <td>17.2</td>\n",
       "      <td>NaN</td>\n",
       "      <td>May-11</td>\n",
       "      <td>Action-adventure</td>\n",
       "      <td>Re-Logic</td>\n",
       "      <td>Re-Logic</td>\n",
       "    </tr>\n",
       "  </tbody>\n",
       "</table>\n",
       "</div>"
      ],
      "text/plain": [
       "                            Name  Sales     Series Release  \\\n",
       "0  PlayerUnknown's Battlegrounds   42.0        NaN  Dec-17   \n",
       "1                      Minecraft   33.0  Minecraft  Nov-11   \n",
       "2                     Diablo III   20.0     Diablo  May-12   \n",
       "3                    Garry's Mod   20.0        NaN  Nov-06   \n",
       "4                       Terraria   17.2        NaN  May-11   \n",
       "\n",
       "                 Genre               Developer               Publisher  \n",
       "0        Battle royale            PUBG Studios                 Krafton  \n",
       "1    Sandbox, survival          Mojang Studios          Mojang Studios  \n",
       "2  Action role-playing  Blizzard Entertainment  Blizzard Entertainment  \n",
       "3              Sandbox       Facepunch Studios                   Valve  \n",
       "4     Action-adventure                Re-Logic                Re-Logic  "
      ]
     },
     "execution_count": 4,
     "metadata": {},
     "output_type": "execute_result"
    }
   ],
   "source": [
    "df = pd.read_csv('Games.csv')\n",
    "df.head()"
   ]
  },
  {
   "cell_type": "code",
   "execution_count": 5,
   "id": "7b8f398e",
   "metadata": {
    "execution": {
     "iopub.execute_input": "2022-01-23T09:38:37.535359Z",
     "iopub.status.busy": "2022-01-23T09:38:37.534708Z",
     "iopub.status.idle": "2022-01-23T09:38:37.555171Z",
     "shell.execute_reply": "2022-01-23T09:38:37.555867Z",
     "shell.execute_reply.started": "2022-01-23T09:28:03.229101Z"
    },
    "papermill": {
     "duration": 0.046661,
     "end_time": "2022-01-23T09:38:37.556094",
     "exception": false,
     "start_time": "2022-01-23T09:38:37.509433",
     "status": "completed"
    },
    "tags": []
   },
   "outputs": [
    {
     "name": "stdout",
     "output_type": "stream",
     "text": [
      "<class 'pandas.core.frame.DataFrame'>\n",
      "RangeIndex: 175 entries, 0 to 174\n",
      "Data columns (total 7 columns):\n",
      " #   Column     Non-Null Count  Dtype  \n",
      "---  ------     --------------  -----  \n",
      " 0   Name       175 non-null    object \n",
      " 1   Sales      175 non-null    float64\n",
      " 2   Series     139 non-null    object \n",
      " 3   Release    175 non-null    object \n",
      " 4   Genre      175 non-null    object \n",
      " 5   Developer  175 non-null    object \n",
      " 6   Publisher  175 non-null    object \n",
      "dtypes: float64(1), object(6)\n",
      "memory usage: 9.7+ KB\n"
     ]
    }
   ],
   "source": [
    "df.info()"
   ]
  },
  {
   "cell_type": "markdown",
   "id": "6b2b0819",
   "metadata": {
    "papermill": {
     "duration": 0.022688,
     "end_time": "2022-01-23T09:38:37.602837",
     "exception": false,
     "start_time": "2022-01-23T09:38:37.580149",
     "status": "completed"
    },
    "tags": []
   },
   "source": [
    "## Most popular genre"
   ]
  },
  {
   "cell_type": "code",
   "execution_count": 6,
   "id": "007b478a",
   "metadata": {
    "execution": {
     "iopub.execute_input": "2022-01-23T09:38:37.653053Z",
     "iopub.status.busy": "2022-01-23T09:38:37.652042Z",
     "iopub.status.idle": "2022-01-23T09:38:37.670448Z",
     "shell.execute_reply": "2022-01-23T09:38:37.669857Z",
     "shell.execute_reply.started": "2022-01-23T09:28:58.810056Z"
    },
    "papermill": {
     "duration": 0.044513,
     "end_time": "2022-01-23T09:38:37.670585",
     "exception": false,
     "start_time": "2022-01-23T09:38:37.626072",
     "status": "completed"
    },
    "tags": []
   },
   "outputs": [
    {
     "data": {
      "text/html": [
       "<div>\n",
       "<style scoped>\n",
       "    .dataframe tbody tr th:only-of-type {\n",
       "        vertical-align: middle;\n",
       "    }\n",
       "\n",
       "    .dataframe tbody tr th {\n",
       "        vertical-align: top;\n",
       "    }\n",
       "\n",
       "    .dataframe thead th {\n",
       "        text-align: right;\n",
       "    }\n",
       "</style>\n",
       "<table border=\"1\" class=\"dataframe\">\n",
       "  <thead>\n",
       "    <tr style=\"text-align: right;\">\n",
       "      <th></th>\n",
       "      <th>Genre</th>\n",
       "      <th>Sales</th>\n",
       "    </tr>\n",
       "  </thead>\n",
       "  <tbody>\n",
       "    <tr>\n",
       "      <th>1</th>\n",
       "      <td>Action role-playing</td>\n",
       "      <td>58.1</td>\n",
       "    </tr>\n",
       "    <tr>\n",
       "      <th>39</th>\n",
       "      <td>Real-time strategy</td>\n",
       "      <td>55.0</td>\n",
       "    </tr>\n",
       "    <tr>\n",
       "      <th>12</th>\n",
       "      <td>Battle royale</td>\n",
       "      <td>52.0</td>\n",
       "    </tr>\n",
       "    <tr>\n",
       "      <th>22</th>\n",
       "      <td>First-person shooter</td>\n",
       "      <td>46.0</td>\n",
       "    </tr>\n",
       "    <tr>\n",
       "      <th>45</th>\n",
       "      <td>Sandbox, survival</td>\n",
       "      <td>33.0</td>\n",
       "    </tr>\n",
       "    <tr>\n",
       "      <th>...</th>\n",
       "      <td>...</td>\n",
       "      <td>...</td>\n",
       "    </tr>\n",
       "    <tr>\n",
       "      <th>40</th>\n",
       "      <td>Real-time strategy, grand strategy wargame</td>\n",
       "      <td>1.0</td>\n",
       "    </tr>\n",
       "    <tr>\n",
       "      <th>33</th>\n",
       "      <td>Platform</td>\n",
       "      <td>1.0</td>\n",
       "    </tr>\n",
       "    <tr>\n",
       "      <th>38</th>\n",
       "      <td>Rail shooter</td>\n",
       "      <td>1.0</td>\n",
       "    </tr>\n",
       "    <tr>\n",
       "      <th>34</th>\n",
       "      <td>Point-and-click</td>\n",
       "      <td>1.0</td>\n",
       "    </tr>\n",
       "    <tr>\n",
       "      <th>41</th>\n",
       "      <td>Real-time tactics</td>\n",
       "      <td>1.0</td>\n",
       "    </tr>\n",
       "  </tbody>\n",
       "</table>\n",
       "<p>61 rows × 2 columns</p>\n",
       "</div>"
      ],
      "text/plain": [
       "                                         Genre  Sales\n",
       "1                          Action role-playing   58.1\n",
       "39                          Real-time strategy   55.0\n",
       "12                               Battle royale   52.0\n",
       "22                        First-person shooter   46.0\n",
       "45                           Sandbox, survival   33.0\n",
       "..                                         ...    ...\n",
       "40  Real-time strategy, grand strategy wargame    1.0\n",
       "33                                    Platform    1.0\n",
       "38                                Rail shooter    1.0\n",
       "34                             Point-and-click    1.0\n",
       "41                           Real-time tactics    1.0\n",
       "\n",
       "[61 rows x 2 columns]"
      ]
     },
     "execution_count": 6,
     "metadata": {},
     "output_type": "execute_result"
    }
   ],
   "source": [
    "df_by_genre = df.groupby('Genre',as_index=False)['Sales'].sum()\n",
    "df_by_genre= df_by_genre.sort_values(by='Sales',ascending=False)\n",
    "df_by_genre"
   ]
  },
  {
   "cell_type": "code",
   "execution_count": 7,
   "id": "6571ae83",
   "metadata": {
    "execution": {
     "iopub.execute_input": "2022-01-23T09:38:37.724879Z",
     "iopub.status.busy": "2022-01-23T09:38:37.724167Z",
     "iopub.status.idle": "2022-01-23T09:38:37.993583Z",
     "shell.execute_reply": "2022-01-23T09:38:37.992863Z",
     "shell.execute_reply.started": "2022-01-23T09:29:10.072395Z"
    },
    "papermill": {
     "duration": 0.299377,
     "end_time": "2022-01-23T09:38:37.993795",
     "exception": false,
     "start_time": "2022-01-23T09:38:37.694418",
     "status": "completed"
    },
    "tags": []
   },
   "outputs": [
    {
     "data": {
      "image/png": "[encoded data removed]",
      "text/plain": [
       "<Figure size 864x576 with 1 Axes>"
      ]
     },
     "metadata": {},
     "output_type": "display_data"
    }
   ],
   "source": [
    "plot_limit = df.groupby('Genre')['Sales'].sum().sort_values(ascending=False).index.values\n",
    "sns.barplot(x='Genre', y='Sales',data=df_by_genre,order=plot_limit[0:5])\n",
    "plt.ylabel(\"Sales (in million)\",fontsize=16)\n",
    "plt.xlabel('')\n",
    "plt.xticks(fontsize=12)\n",
    "plt.title(\"Most popular genre (by sales)\",fontsize=22)\n",
    "plt.show()"
   ]
  },
  {
   "cell_type": "markdown",
   "id": "d2f19852",
   "metadata": {
    "papermill": {
     "duration": 0.026018,
     "end_time": "2022-01-23T09:38:38.044260",
     "exception": false,
     "start_time": "2022-01-23T09:38:38.018242",
     "status": "completed"
    },
    "tags": []
   },
   "source": [
    "Action role-playing is the most popular genre (by sales)"
   ]
  },
  {
   "cell_type": "markdown",
   "id": "4f88e39b",
   "metadata": {
    "papermill": {
     "duration": 0.024478,
     "end_time": "2022-01-23T09:38:38.093284",
     "exception": false,
     "start_time": "2022-01-23T09:38:38.068806",
     "status": "completed"
    },
    "tags": []
   },
   "source": [
    "## Publisher With Most Games"
   ]
  },
  {
   "cell_type": "code",
   "execution_count": 8,
   "id": "ca850134",
   "metadata": {
    "execution": {
     "iopub.execute_input": "2022-01-23T09:38:38.150398Z",
     "iopub.status.busy": "2022-01-23T09:38:38.149628Z",
     "iopub.status.idle": "2022-01-23T09:38:38.152965Z",
     "shell.execute_reply": "2022-01-23T09:38:38.153417Z",
     "shell.execute_reply.started": "2022-01-23T09:30:20.930177Z"
    },
    "papermill": {
     "duration": 0.035774,
     "end_time": "2022-01-23T09:38:38.153577",
     "exception": false,
     "start_time": "2022-01-23T09:38:38.117803",
     "status": "completed"
    },
    "tags": []
   },
   "outputs": [
    {
     "data": {
      "text/plain": [
       "Electronic Arts           19\n",
       "Blizzard Entertainment     8\n",
       "Paradox Interactive        7\n",
       "Activision                 6\n",
       "GT Interactive             5\n",
       "Name: Publisher, dtype: int64"
      ]
     },
     "execution_count": 8,
     "metadata": {},
     "output_type": "execute_result"
    }
   ],
   "source": [
    "publish =df['Publisher'].value_counts(ascending=False)\n",
    "publish = publish[0:5]\n",
    "publish"
   ]
  },
  {
   "cell_type": "code",
   "execution_count": 9,
   "id": "f0786a01",
   "metadata": {
    "execution": {
     "iopub.execute_input": "2022-01-23T09:38:38.209748Z",
     "iopub.status.busy": "2022-01-23T09:38:38.209084Z",
     "iopub.status.idle": "2022-01-23T09:38:38.435952Z",
     "shell.execute_reply": "2022-01-23T09:38:38.436529Z",
     "shell.execute_reply.started": "2022-01-23T09:30:26.231925Z"
    },
    "papermill": {
     "duration": 0.258409,
     "end_time": "2022-01-23T09:38:38.436704",
     "exception": false,
     "start_time": "2022-01-23T09:38:38.178295",
     "status": "completed"
    },
    "tags": []
   },
   "outputs": [
    {
     "name": "stderr",
     "output_type": "stream",
     "text": [
      "C:\\Users\\Waqas\\AppData\\Roaming\\Python\\Python39\\site-packages\\seaborn\\_decorators.py:36: FutureWarning: Pass the following variables as keyword args: x, y. From version 0.12, the only valid positional argument will be `data`, and passing other arguments without an explicit keyword will result in an error or misinterpretation.\n",
      "  warnings.warn(\n"
     ]
    },
    {
     "data": {
      "image/png": "[encoded data removed]",
      "text/plain": [
       "<Figure size 720x576 with 1 Axes>"
      ]
     },
     "metadata": {},
     "output_type": "display_data"
    }
   ],
   "source": [
    "sns.set(rc = {'figure.figsize':(10,8)})\n",
    "sns.barplot(publish.index, publish.values)\n",
    "plt.title('Most games published by a publisher')\n",
    "plt.ylabel('Number of games')\n",
    "plt.yticks(ticks=[0,2,4,6,8,10,12,14,16,18,20])\n",
    "plt.show()"
   ]
  },
  {
   "cell_type": "markdown",
   "id": "54734120",
   "metadata": {
    "papermill": {
     "duration": 0.026052,
     "end_time": "2022-01-23T09:38:38.492090",
     "exception": false,
     "start_time": "2022-01-23T09:38:38.466038",
     "status": "completed"
    },
    "tags": []
   },
   "source": [
    "EA published the most number of games"
   ]
  },
  {
   "cell_type": "markdown",
   "id": "f1be147d",
   "metadata": {
    "papermill": {
     "duration": 0.025443,
     "end_time": "2022-01-23T09:38:38.543886",
     "exception": false,
     "start_time": "2022-01-23T09:38:38.518443",
     "status": "completed"
    },
    "tags": []
   },
   "source": [
    "## Developer With Most Games"
   ]
  },
  {
   "cell_type": "code",
   "execution_count": 10,
   "id": "55c92fda",
   "metadata": {
    "execution": {
     "iopub.execute_input": "2022-01-23T09:38:38.598359Z",
     "iopub.status.busy": "2022-01-23T09:38:38.597818Z",
     "iopub.status.idle": "2022-01-23T09:38:38.604627Z",
     "shell.execute_reply": "2022-01-23T09:38:38.605216Z",
     "shell.execute_reply.started": "2022-01-23T09:31:24.557198Z"
    },
    "papermill": {
     "duration": 0.035654,
     "end_time": "2022-01-23T09:38:38.605376",
     "exception": false,
     "start_time": "2022-01-23T09:38:38.569722",
     "status": "completed"
    },
    "tags": []
   },
   "outputs": [
    {
     "data": {
      "text/plain": [
       "Blizzard Entertainment        8\n",
       "Maxis                         6\n",
       "Paradox Development Studio    5\n",
       "id Software                   4\n",
       "Westwood Studios              4\n",
       "Name: Developer, dtype: int64"
      ]
     },
     "execution_count": 10,
     "metadata": {},
     "output_type": "execute_result"
    }
   ],
   "source": [
    "develop =df['Developer'].value_counts(ascending=False)\n",
    "develop = develop[0:5]\n",
    "develop"
   ]
  },
  {
   "cell_type": "code",
   "execution_count": 11,
   "id": "f832929e",
   "metadata": {
    "execution": {
     "iopub.execute_input": "2022-01-23T09:38:38.661687Z",
     "iopub.status.busy": "2022-01-23T09:38:38.661107Z",
     "iopub.status.idle": "2022-01-23T09:38:38.888970Z",
     "shell.execute_reply": "2022-01-23T09:38:38.888383Z",
     "shell.execute_reply.started": "2022-01-23T09:31:35.723186Z"
    },
    "papermill": {
     "duration": 0.256868,
     "end_time": "2022-01-23T09:38:38.889129",
     "exception": false,
     "start_time": "2022-01-23T09:38:38.632261",
     "status": "completed"
    },
    "tags": []
   },
   "outputs": [
    {
     "name": "stderr",
     "output_type": "stream",
     "text": [
      "C:\\Users\\Waqas\\AppData\\Roaming\\Python\\Python39\\site-packages\\seaborn\\_decorators.py:36: FutureWarning: Pass the following variables as keyword args: x, y. From version 0.12, the only valid positional argument will be `data`, and passing other arguments without an explicit keyword will result in an error or misinterpretation.\n",
      "  warnings.warn(\n"
     ]
    },
    {
     "data": {
      "image/png": "[encoded data removed]",
      "text/plain": [
       "<Figure size 720x576 with 1 Axes>"
      ]
     },
     "metadata": {},
     "output_type": "display_data"
    }
   ],
   "source": [
    "sns.barplot(develop.index, develop.values)\n",
    "plt.title('Most games developed by a developer')\n",
    "plt.ylabel('Number of games')\n",
    "plt.show()"
   ]
  },
  {
   "cell_type": "markdown",
   "id": "0a7e80ff",
   "metadata": {
    "papermill": {
     "duration": 0.027549,
     "end_time": "2022-01-23T09:38:38.944647",
     "exception": false,
     "start_time": "2022-01-23T09:38:38.917098",
     "status": "completed"
    },
    "tags": []
   },
   "source": [
    "Blizzard Entertainment developed the most number of games"
   ]
  },
  {
   "cell_type": "markdown",
   "id": "93fb67c0",
   "metadata": {
    "papermill": {
     "duration": 0.027952,
     "end_time": "2022-01-23T09:38:39.000297",
     "exception": false,
     "start_time": "2022-01-23T09:38:38.972345",
     "status": "completed"
    },
    "tags": []
   },
   "source": [
    "## Most popular series"
   ]
  },
  {
   "cell_type": "code",
   "execution_count": 12,
   "id": "6e7e591e",
   "metadata": {
    "execution": {
     "iopub.execute_input": "2022-01-23T09:38:39.064376Z",
     "iopub.status.busy": "2022-01-23T09:38:39.063738Z",
     "iopub.status.idle": "2022-01-23T09:38:39.066548Z",
     "shell.execute_reply": "2022-01-23T09:38:39.066066Z",
     "shell.execute_reply.started": "2022-01-23T09:32:16.033560Z"
    },
    "papermill": {
     "duration": 0.038526,
     "end_time": "2022-01-23T09:38:39.066696",
     "exception": false,
     "start_time": "2022-01-23T09:38:39.028170",
     "status": "completed"
    },
    "tags": []
   },
   "outputs": [],
   "source": [
    "popular_series = df.groupby('Series')['Sales'].sum()\n",
    "popular_series=popular_series.sort_values(ascending=False)[0:5]"
   ]
  },
  {
   "cell_type": "code",
   "execution_count": 13,
   "id": "1ced6a5a",
   "metadata": {
    "execution": {
     "iopub.execute_input": "2022-01-23T09:38:39.126224Z",
     "iopub.status.busy": "2022-01-23T09:38:39.125282Z",
     "iopub.status.idle": "2022-01-23T09:38:39.319796Z",
     "shell.execute_reply": "2022-01-23T09:38:39.319082Z",
     "shell.execute_reply.started": "2022-01-23T09:32:20.909207Z"
    },
    "papermill": {
     "duration": 0.22525,
     "end_time": "2022-01-23T09:38:39.319960",
     "exception": false,
     "start_time": "2022-01-23T09:38:39.094710",
     "status": "completed"
    },
    "tags": []
   },
   "outputs": [
    {
     "name": "stderr",
     "output_type": "stream",
     "text": [
      "C:\\Users\\Waqas\\AppData\\Roaming\\Python\\Python39\\site-packages\\seaborn\\_decorators.py:36: FutureWarning: Pass the following variables as keyword args: x, y. From version 0.12, the only valid positional argument will be `data`, and passing other arguments without an explicit keyword will result in an error or misinterpretation.\n",
      "  warnings.warn(\n"
     ]
    },
    {
     "data": {
      "image/png": "[encoded data removed]",
      "text/plain": [
       "<Figure size 720x576 with 1 Axes>"
      ]
     },
     "metadata": {},
     "output_type": "display_data"
    }
   ],
   "source": [
    "sns.barplot(popular_series.index, popular_series.values)\n",
    "plt.title('Most popular series (by sales)')\n",
    "plt.ylabel('Sales (in million)')\n",
    "plt.xlabel('')\n",
    "plt.yticks(ticks=[0,8,16,24,32])\n",
    "plt.show()"
   ]
  },
  {
   "cell_type": "markdown",
   "id": "3485c0fd",
   "metadata": {
    "papermill": {
     "duration": 0.029828,
     "end_time": "2022-01-23T09:38:39.379845",
     "exception": false,
     "start_time": "2022-01-23T09:38:39.350017",
     "status": "completed"
    },
    "tags": []
   },
   "source": [
    "Minecraft is the most popular series"
   ]
  },
  {
   "cell_type": "markdown",
   "id": "f098b9fa",
   "metadata": {
    "papermill": {
     "duration": 0.028836,
     "end_time": "2022-01-23T09:38:39.437727",
     "exception": false,
     "start_time": "2022-01-23T09:38:39.408891",
     "status": "completed"
    },
    "tags": []
   },
   "source": [
    "## Top Selling Games"
   ]
  },
  {
   "cell_type": "code",
   "execution_count": 14,
   "id": "8de0b6be",
   "metadata": {
    "execution": {
     "iopub.execute_input": "2022-01-23T09:38:39.500327Z",
     "iopub.status.busy": "2022-01-23T09:38:39.499384Z",
     "iopub.status.idle": "2022-01-23T09:38:39.514575Z",
     "shell.execute_reply": "2022-01-23T09:38:39.515143Z",
     "shell.execute_reply.started": "2022-01-23T09:32:53.566005Z"
    },
    "papermill": {
     "duration": 0.048251,
     "end_time": "2022-01-23T09:38:39.515318",
     "exception": false,
     "start_time": "2022-01-23T09:38:39.467067",
     "status": "completed"
    },
    "tags": []
   },
   "outputs": [
    {
     "data": {
      "text/html": [
       "<div>\n",
       "<style scoped>\n",
       "    .dataframe tbody tr th:only-of-type {\n",
       "        vertical-align: middle;\n",
       "    }\n",
       "\n",
       "    .dataframe tbody tr th {\n",
       "        vertical-align: top;\n",
       "    }\n",
       "\n",
       "    .dataframe thead th {\n",
       "        text-align: right;\n",
       "    }\n",
       "</style>\n",
       "<table border=\"1\" class=\"dataframe\">\n",
       "  <thead>\n",
       "    <tr style=\"text-align: right;\">\n",
       "      <th></th>\n",
       "      <th>Name</th>\n",
       "      <th>Sales</th>\n",
       "      <th>Series</th>\n",
       "      <th>Release</th>\n",
       "      <th>Genre</th>\n",
       "      <th>Developer</th>\n",
       "      <th>Publisher</th>\n",
       "    </tr>\n",
       "  </thead>\n",
       "  <tbody>\n",
       "    <tr>\n",
       "      <th>0</th>\n",
       "      <td>PlayerUnknown's Battlegrounds</td>\n",
       "      <td>42.0</td>\n",
       "      <td>NaN</td>\n",
       "      <td>Dec-17</td>\n",
       "      <td>Battle royale</td>\n",
       "      <td>PUBG Studios</td>\n",
       "      <td>Krafton</td>\n",
       "    </tr>\n",
       "    <tr>\n",
       "      <th>1</th>\n",
       "      <td>Minecraft</td>\n",
       "      <td>33.0</td>\n",
       "      <td>Minecraft</td>\n",
       "      <td>Nov-11</td>\n",
       "      <td>Sandbox, survival</td>\n",
       "      <td>Mojang Studios</td>\n",
       "      <td>Mojang Studios</td>\n",
       "    </tr>\n",
       "    <tr>\n",
       "      <th>2</th>\n",
       "      <td>Diablo III</td>\n",
       "      <td>20.0</td>\n",
       "      <td>Diablo</td>\n",
       "      <td>May-12</td>\n",
       "      <td>Action role-playing</td>\n",
       "      <td>Blizzard Entertainment</td>\n",
       "      <td>Blizzard Entertainment</td>\n",
       "    </tr>\n",
       "    <tr>\n",
       "      <th>3</th>\n",
       "      <td>Garry's Mod</td>\n",
       "      <td>20.0</td>\n",
       "      <td>NaN</td>\n",
       "      <td>Nov-06</td>\n",
       "      <td>Sandbox</td>\n",
       "      <td>Facepunch Studios</td>\n",
       "      <td>Valve</td>\n",
       "    </tr>\n",
       "    <tr>\n",
       "      <th>4</th>\n",
       "      <td>Terraria</td>\n",
       "      <td>17.2</td>\n",
       "      <td>NaN</td>\n",
       "      <td>May-11</td>\n",
       "      <td>Action-adventure</td>\n",
       "      <td>Re-Logic</td>\n",
       "      <td>Re-Logic</td>\n",
       "    </tr>\n",
       "  </tbody>\n",
       "</table>\n",
       "</div>"
      ],
      "text/plain": [
       "                            Name  Sales     Series Release  \\\n",
       "0  PlayerUnknown's Battlegrounds   42.0        NaN  Dec-17   \n",
       "1                      Minecraft   33.0  Minecraft  Nov-11   \n",
       "2                     Diablo III   20.0     Diablo  May-12   \n",
       "3                    Garry's Mod   20.0        NaN  Nov-06   \n",
       "4                       Terraria   17.2        NaN  May-11   \n",
       "\n",
       "                 Genre               Developer               Publisher  \n",
       "0        Battle royale            PUBG Studios                 Krafton  \n",
       "1    Sandbox, survival          Mojang Studios          Mojang Studios  \n",
       "2  Action role-playing  Blizzard Entertainment  Blizzard Entertainment  \n",
       "3              Sandbox       Facepunch Studios                   Valve  \n",
       "4     Action-adventure                Re-Logic                Re-Logic  "
      ]
     },
     "execution_count": 14,
     "metadata": {},
     "output_type": "execute_result"
    }
   ],
   "source": [
    "df_sorted =df.sort_values(by='Sales',ascending=False)\n",
    "df_sorted.head()"
   ]
  },
  {
   "cell_type": "code",
   "execution_count": 15,
   "id": "33ac7230",
   "metadata": {
    "execution": {
     "iopub.execute_input": "2022-01-23T09:38:39.578450Z",
     "iopub.status.busy": "2022-01-23T09:38:39.577830Z",
     "iopub.status.idle": "2022-01-23T09:38:39.754438Z",
     "shell.execute_reply": "2022-01-23T09:38:39.754969Z",
     "shell.execute_reply.started": "2022-01-23T09:36:37.853059Z"
    },
    "papermill": {
     "duration": 0.210282,
     "end_time": "2022-01-23T09:38:39.755156",
     "exception": false,
     "start_time": "2022-01-23T09:38:39.544874",
     "status": "completed"
    },
    "tags": []
   },
   "outputs": [
    {
     "data": {
      "image/png": "[encoded data removed]",
      "text/plain": [
       "<Figure size 720x576 with 1 Axes>"
      ]
     },
     "metadata": {},
     "output_type": "display_data"
    }
   ],
   "source": [
    "sns.barplot(x='Name',y='Sales',data=df_sorted[0:5])\n",
    "plt.ylabel(\"Sales (in million)\")\n",
    "plt.xticks(rotation=15)\n",
    "plt.xlabel('')\n",
    "plt.title(\"Top Selling Games\")\n",
    "plt.show()"
   ]
  },
  {
   "cell_type": "markdown",
   "id": "20bfdb82",
   "metadata": {
    "papermill": {
     "duration": 0.030467,
     "end_time": "2022-01-23T09:38:39.816461",
     "exception": false,
     "start_time": "2022-01-23T09:38:39.785994",
     "status": "completed"
    },
    "tags": []
   },
   "source": [
    "PlayerUnknown's Battlegrounds is the top selling game"
   ]
  },
  {
   "cell_type": "markdown",
   "id": "5e85fe7f",
   "metadata": {
    "papermill": {
     "duration": 0.030254,
     "end_time": "2022-01-23T09:38:39.877343",
     "exception": false,
     "start_time": "2022-01-23T09:38:39.847089",
     "status": "completed"
    },
    "tags": []
   },
   "source": [
    "## Top Selling Publisher"
   ]
  },
  {
   "cell_type": "code",
   "execution_count": 16,
   "id": "0139e4f9",
   "metadata": {
    "execution": {
     "iopub.execute_input": "2022-01-23T09:38:39.947253Z",
     "iopub.status.busy": "2022-01-23T09:38:39.945100Z",
     "iopub.status.idle": "2022-01-23T09:38:39.959067Z",
     "shell.execute_reply": "2022-01-23T09:38:39.958468Z",
     "shell.execute_reply.started": "2022-01-23T09:35:59.336398Z"
    },
    "papermill": {
     "duration": 0.051065,
     "end_time": "2022-01-23T09:38:39.959206",
     "exception": false,
     "start_time": "2022-01-23T09:38:39.908141",
     "status": "completed"
    },
    "tags": []
   },
   "outputs": [
    {
     "data": {
      "text/html": [
       "<div>\n",
       "<style scoped>\n",
       "    .dataframe tbody tr th:only-of-type {\n",
       "        vertical-align: middle;\n",
       "    }\n",
       "\n",
       "    .dataframe tbody tr th {\n",
       "        vertical-align: top;\n",
       "    }\n",
       "\n",
       "    .dataframe thead th {\n",
       "        text-align: right;\n",
       "    }\n",
       "</style>\n",
       "<table border=\"1\" class=\"dataframe\">\n",
       "  <thead>\n",
       "    <tr style=\"text-align: right;\">\n",
       "      <th></th>\n",
       "      <th>Publisher</th>\n",
       "      <th>Sales</th>\n",
       "    </tr>\n",
       "  </thead>\n",
       "  <tbody>\n",
       "    <tr>\n",
       "      <th>8</th>\n",
       "      <td>Blizzard Entertainment</td>\n",
       "      <td>59.0</td>\n",
       "    </tr>\n",
       "    <tr>\n",
       "      <th>28</th>\n",
       "      <td>Electronic Arts</td>\n",
       "      <td>54.0</td>\n",
       "    </tr>\n",
       "    <tr>\n",
       "      <th>51</th>\n",
       "      <td>Krafton</td>\n",
       "      <td>42.0</td>\n",
       "    </tr>\n",
       "    <tr>\n",
       "      <th>59</th>\n",
       "      <td>Mojang Studios</td>\n",
       "      <td>33.0</td>\n",
       "    </tr>\n",
       "    <tr>\n",
       "      <th>89</th>\n",
       "      <td>Valve</td>\n",
       "      <td>20.0</td>\n",
       "    </tr>\n",
       "    <tr>\n",
       "      <th>...</th>\n",
       "      <td>...</td>\n",
       "      <td>...</td>\n",
       "    </tr>\n",
       "    <tr>\n",
       "      <th>41</th>\n",
       "      <td>Hasbro Interactive</td>\n",
       "      <td>1.0</td>\n",
       "    </tr>\n",
       "    <tr>\n",
       "      <th>47</th>\n",
       "      <td>Introversion Software</td>\n",
       "      <td>1.0</td>\n",
       "    </tr>\n",
       "    <tr>\n",
       "      <th>53</th>\n",
       "      <td>Larian Studios</td>\n",
       "      <td>1.0</td>\n",
       "    </tr>\n",
       "    <tr>\n",
       "      <th>71</th>\n",
       "      <td>Softstar</td>\n",
       "      <td>1.0</td>\n",
       "    </tr>\n",
       "    <tr>\n",
       "      <th>48</th>\n",
       "      <td>JoWood Productions</td>\n",
       "      <td>1.0</td>\n",
       "    </tr>\n",
       "  </tbody>\n",
       "</table>\n",
       "<p>96 rows × 2 columns</p>\n",
       "</div>"
      ],
      "text/plain": [
       "                 Publisher  Sales\n",
       "8   Blizzard Entertainment   59.0\n",
       "28         Electronic Arts   54.0\n",
       "51                 Krafton   42.0\n",
       "59          Mojang Studios   33.0\n",
       "89                   Valve   20.0\n",
       "..                     ...    ...\n",
       "41      Hasbro Interactive    1.0\n",
       "47   Introversion Software    1.0\n",
       "53          Larian Studios    1.0\n",
       "71                Softstar    1.0\n",
       "48      JoWood Productions    1.0\n",
       "\n",
       "[96 rows x 2 columns]"
      ]
     },
     "execution_count": 16,
     "metadata": {},
     "output_type": "execute_result"
    }
   ],
   "source": [
    "df_by_publisher = df.groupby('Publisher',as_index=False)['Sales'].sum()\n",
    "df_by_publisher = df_by_publisher.sort_values(by='Sales',ascending=False)\n",
    "df_by_publisher"
   ]
  },
  {
   "cell_type": "code",
   "execution_count": 17,
   "id": "0f42b144",
   "metadata": {
    "execution": {
     "iopub.execute_input": "2022-01-23T09:38:40.025728Z",
     "iopub.status.busy": "2022-01-23T09:38:40.025044Z",
     "iopub.status.idle": "2022-01-23T09:38:40.198381Z",
     "shell.execute_reply": "2022-01-23T09:38:40.198967Z",
     "shell.execute_reply.started": "2022-01-23T09:36:20.315429Z"
    },
    "papermill": {
     "duration": 0.208212,
     "end_time": "2022-01-23T09:38:40.199137",
     "exception": false,
     "start_time": "2022-01-23T09:38:39.990925",
     "status": "completed"
    },
    "tags": []
   },
   "outputs": [
    {
     "data": {
      "image/png": "[encoded data removed]",
      "text/plain": [
       "<Figure size 720x576 with 1 Axes>"
      ]
     },
     "metadata": {},
     "output_type": "display_data"
    }
   ],
   "source": [
    "plot_limit = df.groupby('Publisher')['Sales'].sum().sort_values(ascending=False).index.values\n",
    "sns.barplot(x='Publisher',y='Sales',data=df_by_publisher,order=plot_limit[0:5])\n",
    "plt.ylabel(\"Sales (in million)\")\n",
    "plt.xlabel('')\n",
    "plt.title(\"Top Selling Publisher\")\n",
    "plt.show()"
   ]
  },
  {
   "cell_type": "markdown",
   "id": "675a1767",
   "metadata": {
    "papermill": {
     "duration": 0.031938,
     "end_time": "2022-01-23T09:38:40.263333",
     "exception": false,
     "start_time": "2022-01-23T09:38:40.231395",
     "status": "completed"
    },
    "tags": []
   },
   "source": [
    "Blizzard Entertainment is the top selling publisher"
   ]
  },
  {
   "cell_type": "markdown",
   "id": "1e4a7159",
   "metadata": {
    "papermill": {
     "duration": 0.032144,
     "end_time": "2022-01-23T09:38:40.327611",
     "exception": false,
     "start_time": "2022-01-23T09:38:40.295467",
     "status": "completed"
    },
    "tags": []
   },
   "source": [
    "## Top Selling Developer"
   ]
  },
  {
   "cell_type": "code",
   "execution_count": 18,
   "id": "8babd7b3",
   "metadata": {
    "execution": {
     "iopub.execute_input": "2022-01-23T09:38:40.396151Z",
     "iopub.status.busy": "2022-01-23T09:38:40.395146Z",
     "iopub.status.idle": "2022-01-23T09:38:40.411269Z",
     "shell.execute_reply": "2022-01-23T09:38:40.411779Z",
     "shell.execute_reply.started": "2022-01-23T09:37:18.894431Z"
    },
    "papermill": {
     "duration": 0.052577,
     "end_time": "2022-01-23T09:38:40.411941",
     "exception": false,
     "start_time": "2022-01-23T09:38:40.359364",
     "status": "completed"
    },
    "tags": []
   },
   "outputs": [
    {
     "data": {
      "text/html": [
       "<div>\n",
       "<style scoped>\n",
       "    .dataframe tbody tr th:only-of-type {\n",
       "        vertical-align: middle;\n",
       "    }\n",
       "\n",
       "    .dataframe tbody tr th {\n",
       "        vertical-align: top;\n",
       "    }\n",
       "\n",
       "    .dataframe thead th {\n",
       "        text-align: right;\n",
       "    }\n",
       "</style>\n",
       "<table border=\"1\" class=\"dataframe\">\n",
       "  <thead>\n",
       "    <tr style=\"text-align: right;\">\n",
       "      <th></th>\n",
       "      <th>Developer</th>\n",
       "      <th>Sales</th>\n",
       "    </tr>\n",
       "  </thead>\n",
       "  <tbody>\n",
       "    <tr>\n",
       "      <th>6</th>\n",
       "      <td>Blizzard Entertainment</td>\n",
       "      <td>58.0</td>\n",
       "    </tr>\n",
       "    <tr>\n",
       "      <th>69</th>\n",
       "      <td>PUBG Studios</td>\n",
       "      <td>42.0</td>\n",
       "    </tr>\n",
       "    <tr>\n",
       "      <th>65</th>\n",
       "      <td>Mojang Studios</td>\n",
       "      <td>33.0</td>\n",
       "    </tr>\n",
       "    <tr>\n",
       "      <th>60</th>\n",
       "      <td>Maxis</td>\n",
       "      <td>33.0</td>\n",
       "    </tr>\n",
       "    <tr>\n",
       "      <th>34</th>\n",
       "      <td>Facepunch Studios</td>\n",
       "      <td>29.0</td>\n",
       "    </tr>\n",
       "    <tr>\n",
       "      <th>...</th>\n",
       "      <td>...</td>\n",
       "      <td>...</td>\n",
       "    </tr>\n",
       "    <tr>\n",
       "      <th>80</th>\n",
       "      <td>SCE Cambridge Studio</td>\n",
       "      <td>1.0</td>\n",
       "    </tr>\n",
       "    <tr>\n",
       "      <th>40</th>\n",
       "      <td>Galactic Cafe</td>\n",
       "      <td>1.0</td>\n",
       "    </tr>\n",
       "    <tr>\n",
       "      <th>31</th>\n",
       "      <td>Enlight Software</td>\n",
       "      <td>1.0</td>\n",
       "    </tr>\n",
       "    <tr>\n",
       "      <th>84</th>\n",
       "      <td>Softstar</td>\n",
       "      <td>1.0</td>\n",
       "    </tr>\n",
       "    <tr>\n",
       "      <th>0</th>\n",
       "      <td>3D Realms</td>\n",
       "      <td>1.0</td>\n",
       "    </tr>\n",
       "  </tbody>\n",
       "</table>\n",
       "<p>109 rows × 2 columns</p>\n",
       "</div>"
      ],
      "text/plain": [
       "                 Developer  Sales\n",
       "6   Blizzard Entertainment   58.0\n",
       "69            PUBG Studios   42.0\n",
       "65          Mojang Studios   33.0\n",
       "60                   Maxis   33.0\n",
       "34       Facepunch Studios   29.0\n",
       "..                     ...    ...\n",
       "80    SCE Cambridge Studio    1.0\n",
       "40           Galactic Cafe    1.0\n",
       "31        Enlight Software    1.0\n",
       "84                Softstar    1.0\n",
       "0                3D Realms    1.0\n",
       "\n",
       "[109 rows x 2 columns]"
      ]
     },
     "execution_count": 18,
     "metadata": {},
     "output_type": "execute_result"
    }
   ],
   "source": [
    "df_by_developer = df.groupby('Developer',as_index=False)['Sales'].sum()\n",
    "df_by_developer = df_by_developer.sort_values(by='Sales',ascending=False)\n",
    "df_by_developer"
   ]
  },
  {
   "cell_type": "code",
   "execution_count": 19,
   "id": "4cf01f12",
   "metadata": {
    "execution": {
     "iopub.execute_input": "2022-01-23T09:38:40.481501Z",
     "iopub.status.busy": "2022-01-23T09:38:40.480582Z",
     "iopub.status.idle": "2022-01-23T09:38:40.707728Z",
     "shell.execute_reply": "2022-01-23T09:38:40.708231Z",
     "shell.execute_reply.started": "2022-01-23T09:37:23.571739Z"
    },
    "papermill": {
     "duration": 0.263274,
     "end_time": "2022-01-23T09:38:40.708423",
     "exception": false,
     "start_time": "2022-01-23T09:38:40.445149",
     "status": "completed"
    },
    "tags": []
   },
   "outputs": [
    {
     "data": {
      "image/png": "[encoded data removed]",
      "text/plain": [
       "<Figure size 720x576 with 1 Axes>"
      ]
     },
     "metadata": {},
     "output_type": "display_data"
    }
   ],
   "source": [
    "plot_limit = df.groupby('Developer')['Sales'].sum().sort_values(ascending=False).index.values\n",
    "sns.barplot(x='Developer',y='Sales',data= df_by_developer,order=plot_limit[0:5])\n",
    "plt.ylabel(\"Sales (in million)\")\n",
    "plt.title(\"Top Selling Developer\")\n",
    "plt.show()"
   ]
  },
  {
   "cell_type": "markdown",
   "id": "c7682b46",
   "metadata": {
    "papermill": {
     "duration": 0.034275,
     "end_time": "2022-01-23T09:38:40.777886",
     "exception": false,
     "start_time": "2022-01-23T09:38:40.743611",
     "status": "completed"
    },
    "tags": []
   },
   "source": [
    "Blizzard Entertainment is the top selling developer"
   ]
  }
 ],
 "metadata": {
  "kernelspec": {
   "display_name": "Python 3",
   "language": "python",
   "name": "python3"
  },
  "language_info": {
   "codemirror_mode": {
    "name": "ipython",
    "version": 3
   },
   "file_extension": ".py",
   "mimetype": "text/x-python",
   "name": "python",
   "nbconvert_exporter": "python",
   "pygments_lexer": "ipython3",
   "version": "3.9.8"
  },
  "papermill": {
   "default_parameters": {},
   "duration": 14.373012,
   "end_time": "2022-01-23T09:38:41.523296",
   "environment_variables": {},
   "exception": null,
   "input_path": "__notebook__.ipynb",
   "output_path": "__notebook__.ipynb",
   "parameters": {},
   "start_time": "2022-01-23T09:38:27.150284",
   "version": "2.3.3"
  }
 },
 "nbformat": 4,
 "nbformat_minor": 5
}
